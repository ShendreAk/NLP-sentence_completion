{
 "cells": [
  {
   "cell_type": "code",
   "execution_count": 1,
   "metadata": {},
   "outputs": [
    {
     "name": "stderr",
     "output_type": "stream",
     "text": [
      "2024-11-07 14:26:53.547117: I tensorflow/core/platform/cpu_feature_guard.cc:210] This TensorFlow binary is optimized to use available CPU instructions in performance-critical operations.\n",
      "To enable the following instructions: AVX2 FMA, in other operations, rebuild TensorFlow with the appropriate compiler flags.\n"
     ]
    }
   ],
   "source": [
    "import os\n",
    "import re\n",
    "import numpy as np\n",
    "import pandas as pd\n",
    "import matplotlib.pyplot as plt\n",
    "\n",
    "import tensorflow as tf\n",
    "from tensorflow.keras.preprocessing.text import Tokenizer\n",
    "from tensorflow.keras.preprocessing.sequence import pad_sequences\n",
    "from tensorflow.keras.models import Sequential\n",
    "from tensorflow.keras.layers import Embedding, LSTM, Bidirectional, Dense\n",
    "from tensorflow.keras.optimizers import Adam\n",
    "from tensorflow.keras.models import model_from_json\n",
    "\n"
   ]
  },
  {
   "cell_type": "code",
   "execution_count": 2,
   "metadata": {},
   "outputs": [
    {
     "name": "stdout",
     "output_type": "stream",
     "text": [
      "*Project Gutenberg's Etext of Tom Swift And His Submarine Boat*\n",
      "\n",
      "#4 in the Victor Appleton's Tom Swift Series\n",
      "\n",
      "We name these Etext files as they are numbered in the books,\n",
      "\n",
      "i.e. This is #4 in the series so the file name is 04tomxxx.xxx,\n",
      "\n",
      "where the x's are place holders for editon # and file type such\n",
      "\n",
      "as 04tom10.txt and 04tom10.zip, when we do a .htm, 04tom10h.htm\n",
      "\n",
      "\n",
      "\n",
      "\n",
      "\n",
      "Copyright laws are changing all over the world, be sure to check\n",
      "\n",
      "the copyright laws for your country before posting these files\n"
     ]
    }
   ],
   "source": [
    "#open data file\n",
    "with open(\"data/holmes.txt\", 'r', encoding='utf-8') as f:\n",
    "  data = f.read()\n",
    "  print(data[:500])"
   ]
  },
  {
   "cell_type": "code",
   "execution_count": 3,
   "metadata": {},
   "outputs": [],
   "source": [
    "#removal of special characters\n",
    "def removeSpecialChar(data):\n",
    "  #remove special characters\n",
    "  data = re.sub(r'[^a-zA-Z0-9\\s]', \"\", data)\n",
    "  #remove extra spaces\n",
    "  data = re.sub(\" +\", \" \", data)\n",
    "\n",
    "  \n",
    "  return data\n",
    "  "
   ]
  },
  {
   "cell_type": "code",
   "execution_count": 4,
   "metadata": {},
   "outputs": [],
   "source": [
    "#Preprocessing\n",
    "def preprocess(data):\n",
    "  sentences = data.split(\"\\n\")\n",
    "  for i in range(len(sentences)):\n",
    "    sentences[i] = removeSpecialChar(sentences[i])\n",
    "  \n",
    "  sentences = [s.strip() for s in sentences]\n",
    "  #drop empty sentences\n",
    "  sentences = [ s for s in sentences if len(sentences)> 0]\n",
    "  tokenizer = []\n",
    "  for s in sentences:\n",
    "    s = s.lower()\n",
    "    tokenizer.append(s)\n",
    "  return tokenizer"
   ]
  },
  {
   "cell_type": "code",
   "execution_count": 5,
   "metadata": {},
   "outputs": [],
   "source": [
    "Tokenized_sentence = preprocess(data)"
   ]
  },
  {
   "cell_type": "code",
   "execution_count": 6,
   "metadata": {},
   "outputs": [],
   "source": [
    "#Tokenize words\n",
    "tokenizer = Tokenizer(oov_token ='<oov>')\n",
    "tokenizer.fit_on_texts(Tokenized_sentence)\n",
    "total_words = len(tokenizer.word_index) + 1\n"
   ]
  },
  {
   "cell_type": "code",
   "execution_count": 14,
   "metadata": {},
   "outputs": [
    {
     "name": "stdout",
     "output_type": "stream",
     "text": [
      "<oov> - 0\n",
      "the - 1\n",
      "and - 2\n",
      "of - 3\n",
      "to - 4\n",
      "a - 5\n",
      "in - 6\n",
      "i - 7\n",
      "he - 8\n",
      "was - 9\n",
      "that - 10\n"
     ]
    }
   ],
   "source": [
    "count =0\n",
    "for idx, word  in enumerate(tokenizer.word_index):\n",
    "  if count <=10:\n",
    "    print(word, \"-\", idx)\n",
    "    count +=1\n",
    "  else:\n",
    "    break\n"
   ]
  },
  {
   "cell_type": "code",
   "execution_count": null,
   "metadata": {},
   "outputs": [
    {
     "name": "stdout",
     "output_type": "stream",
     "text": [
      "['project gutenbergs etext of tom swift and his submarine boat', '4 in the victor appletons tom swift series', 'we name these etext files as they are numbered in the books', 'ie this is 4 in the series so the file name is 04tomxxxxxx', 'where the xs are place holders for editon and file type such', 'as 04tom10txt and 04tom10zip when we do a htm 04tom10hhtm', 'copyright laws are changing all over the world be sure to check', 'the copyright laws for your country before posting these files', 'please take a look at the important information in this header', 'we encourage you to keep this file on your own disk keeping an']\n"
     ]
    }
   ],
   "source": [
    "#creating sequence\n",
    "sequences = []\n",
    "# for s in Tokenized_sentence:\n",
    "#   list_ = tokenizer.texts_to_sequences([s])[0]\n",
    "#   for i in range(1,len(list_)):\n",
    "#     n_gram_seq = list_[:i+1]\n",
    "#     sequences.append(n_gram_seq)\n",
    "    \n",
    "for s in Tokenized_sentence:\n",
    "  if len(s) > 0:\n",
    "    sequences.append(s)\n",
    "print(sequences[:10])\n",
    "    \n",
    "sequences = tokenizer.texts_to_sequences(sequences)\n",
    "    \n",
    "#padding seq\n",
    "max_seq_len = max([len(x) for x in sequences])\n",
    "input_seq = np.array(pad_sequences(sequences, maxlen=max_seq_len, padding='pre'))"
   ]
  },
  {
   "cell_type": "code",
   "execution_count": 9,
   "metadata": {},
   "outputs": [
    {
     "data": {
      "text/plain": [
       "array([[   0,    0,    0, ...,  524, 2102, 2103],\n",
       "       [   0,    0,    0, ..., 1573,    3,   18],\n",
       "       [   0,    0,    0, ...,   10,  117,   61],\n",
       "       ...,\n",
       "       [   0,    0,    0, ...,  137,  356,  823],\n",
       "       [   0,    0,    0, ...,    3,   96,    6],\n",
       "       [   0,    0,    0, ...,   80,  335, 1570]], dtype=int32)"
      ]
     },
     "execution_count": 9,
     "metadata": {},
     "output_type": "execute_result"
    }
   ],
   "source": [
    "input_seq"
   ]
  },
  {
   "cell_type": "code",
   "execution_count": 10,
   "metadata": {},
   "outputs": [],
   "source": [
    "X , labels = input_seq[:,:-1], input_seq[:, -1]\n",
    "Y = tf.keras.utils.to_categorical(labels, num_classes=total_words)"
   ]
  },
  {
   "cell_type": "code",
   "execution_count": 11,
   "metadata": {},
   "outputs": [
    {
     "data": {
      "text/plain": [
       "(10386, 8730)"
      ]
     },
     "execution_count": 11,
     "metadata": {},
     "output_type": "execute_result"
    }
   ],
   "source": [
    "Y.shape"
   ]
  },
  {
   "cell_type": "code",
   "execution_count": 12,
   "metadata": {},
   "outputs": [],
   "source": [
    "from sklearn.model_selection import train_test_split\n",
    "X_train, X_test, y_train, y_test = train_test_split(X, Y, test_size=0.3, random_state=2)\n",
    "X_val, X_test, y_val, y_test = train_test_split(X_test, y_test, test_size=0.5, random_state=2)\n",
    "\n"
   ]
  },
  {
   "cell_type": "code",
   "execution_count": 36,
   "metadata": {},
   "outputs": [
    {
     "data": {
      "text/plain": [
       "(7270, 16)"
      ]
     },
     "execution_count": 36,
     "metadata": {},
     "output_type": "execute_result"
    }
   ],
   "source": [
    "\n",
    "X_train.shape"
   ]
  },
  {
   "cell_type": "code",
   "execution_count": 37,
   "metadata": {},
   "outputs": [
    {
     "data": {
      "text/plain": [
       "array([   0,    0,    0,    0,    0,    0,  729,   27,    4,   85,  569,\n",
       "          5,   10,   11,   49, 1593], dtype=int32)"
      ]
     },
     "execution_count": 37,
     "metadata": {},
     "output_type": "execute_result"
    }
   ],
   "source": [
    "X_train[1]"
   ]
  },
  {
   "cell_type": "code",
   "execution_count": 13,
   "metadata": {},
   "outputs": [
    {
     "name": "stdout",
     "output_type": "stream",
     "text": [
      "Epoch 1/20\n",
      "\u001b[1m228/228\u001b[0m \u001b[32m━━━━━━━━━━━━━━━━━━━━\u001b[0m\u001b[37m\u001b[0m \u001b[1m16s\u001b[0m 55ms/step - accuracy: 0.0462 - loss: 7.4017 - val_accuracy: 0.0789 - val_loss: 6.7745\n",
      "Epoch 2/20\n",
      "\u001b[1m228/228\u001b[0m \u001b[32m━━━━━━━━━━━━━━━━━━━━\u001b[0m\u001b[37m\u001b[0m \u001b[1m13s\u001b[0m 55ms/step - accuracy: 0.0831 - loss: 5.7815 - val_accuracy: 0.0815 - val_loss: 6.8695\n",
      "Epoch 3/20\n",
      "\u001b[1m228/228\u001b[0m \u001b[32m━━━━━━━━━━━━━━━━━━━━\u001b[0m\u001b[37m\u001b[0m \u001b[1m13s\u001b[0m 56ms/step - accuracy: 0.1437 - loss: 4.8343 - val_accuracy: 0.0905 - val_loss: 7.3298\n",
      "Epoch 4/20\n",
      "\u001b[1m228/228\u001b[0m \u001b[32m━━━━━━━━━━━━━━━━━━━━\u001b[0m\u001b[37m\u001b[0m \u001b[1m13s\u001b[0m 57ms/step - accuracy: 0.2422 - loss: 3.8462 - val_accuracy: 0.0834 - val_loss: 7.7564\n",
      "Epoch 5/20\n",
      "\u001b[1m228/228\u001b[0m \u001b[32m━━━━━━━━━━━━━━━━━━━━\u001b[0m\u001b[37m\u001b[0m \u001b[1m13s\u001b[0m 55ms/step - accuracy: 0.3851 - loss: 2.8747 - val_accuracy: 0.0764 - val_loss: 8.3970\n",
      "Epoch 6/20\n",
      "\u001b[1m228/228\u001b[0m \u001b[32m━━━━━━━━━━━━━━━━━━━━\u001b[0m\u001b[37m\u001b[0m \u001b[1m13s\u001b[0m 55ms/step - accuracy: 0.5254 - loss: 2.1104 - val_accuracy: 0.0706 - val_loss: 8.8790\n",
      "Epoch 7/20\n",
      "\u001b[1m228/228\u001b[0m \u001b[32m━━━━━━━━━━━━━━━━━━━━\u001b[0m\u001b[37m\u001b[0m \u001b[1m12s\u001b[0m 55ms/step - accuracy: 0.6351 - loss: 1.5659 - val_accuracy: 0.0623 - val_loss: 9.2560\n",
      "Epoch 8/20\n",
      "\u001b[1m228/228\u001b[0m \u001b[32m━━━━━━━━━━━━━━━━━━━━\u001b[0m\u001b[37m\u001b[0m \u001b[1m13s\u001b[0m 59ms/step - accuracy: 0.7441 - loss: 1.1379 - val_accuracy: 0.0655 - val_loss: 9.6519\n",
      "Epoch 9/20\n",
      "\u001b[1m228/228\u001b[0m \u001b[32m━━━━━━━━━━━━━━━━━━━━\u001b[0m\u001b[37m\u001b[0m \u001b[1m13s\u001b[0m 55ms/step - accuracy: 0.7969 - loss: 0.9158 - val_accuracy: 0.0751 - val_loss: 10.0114\n",
      "Epoch 10/20\n",
      "\u001b[1m228/228\u001b[0m \u001b[32m━━━━━━━━━━━━━━━━━━━━\u001b[0m\u001b[37m\u001b[0m \u001b[1m13s\u001b[0m 55ms/step - accuracy: 0.8241 - loss: 0.7732 - val_accuracy: 0.0751 - val_loss: 10.2647\n",
      "Epoch 11/20\n",
      "\u001b[1m228/228\u001b[0m \u001b[32m━━━━━━━━━━━━━━━━━━━━\u001b[0m\u001b[37m\u001b[0m \u001b[1m13s\u001b[0m 55ms/step - accuracy: 0.8580 - loss: 0.6390 - val_accuracy: 0.0700 - val_loss: 10.6813\n",
      "Epoch 12/20\n",
      "\u001b[1m228/228\u001b[0m \u001b[32m━━━━━━━━━━━━━━━━━━━━\u001b[0m\u001b[37m\u001b[0m \u001b[1m12s\u001b[0m 54ms/step - accuracy: 0.8904 - loss: 0.5232 - val_accuracy: 0.0674 - val_loss: 10.8814\n",
      "Epoch 13/20\n",
      "\u001b[1m228/228\u001b[0m \u001b[32m━━━━━━━━━━━━━━━━━━━━\u001b[0m\u001b[37m\u001b[0m \u001b[1m13s\u001b[0m 55ms/step - accuracy: 0.8959 - loss: 0.4884 - val_accuracy: 0.0623 - val_loss: 10.8563\n",
      "Epoch 14/20\n",
      "\u001b[1m228/228\u001b[0m \u001b[32m━━━━━━━━━━━━━━━━━━━━\u001b[0m\u001b[37m\u001b[0m \u001b[1m12s\u001b[0m 54ms/step - accuracy: 0.8920 - loss: 0.5196 - val_accuracy: 0.0635 - val_loss: 11.3219\n",
      "Epoch 15/20\n",
      "\u001b[1m228/228\u001b[0m \u001b[32m━━━━━━━━━━━━━━━━━━━━\u001b[0m\u001b[37m\u001b[0m \u001b[1m12s\u001b[0m 54ms/step - accuracy: 0.8576 - loss: 0.6170 - val_accuracy: 0.0635 - val_loss: 11.3865\n",
      "Epoch 16/20\n",
      "\u001b[1m228/228\u001b[0m \u001b[32m━━━━━━━━━━━━━━━━━━━━\u001b[0m\u001b[37m\u001b[0m \u001b[1m12s\u001b[0m 54ms/step - accuracy: 0.8348 - loss: 0.6675 - val_accuracy: 0.0578 - val_loss: 11.5358\n",
      "Epoch 17/20\n",
      "\u001b[1m228/228\u001b[0m \u001b[32m━━━━━━━━━━━━━━━━━━━━\u001b[0m\u001b[37m\u001b[0m \u001b[1m12s\u001b[0m 54ms/step - accuracy: 0.7811 - loss: 0.8499 - val_accuracy: 0.0558 - val_loss: 11.9049\n",
      "Epoch 18/20\n",
      "\u001b[1m228/228\u001b[0m \u001b[32m━━━━━━━━━━━━━━━━━━━━\u001b[0m\u001b[37m\u001b[0m \u001b[1m12s\u001b[0m 54ms/step - accuracy: 0.8311 - loss: 0.6542 - val_accuracy: 0.0597 - val_loss: 12.0582\n",
      "Epoch 19/20\n",
      "\u001b[1m228/228\u001b[0m \u001b[32m━━━━━━━━━━━━━━━━━━━━\u001b[0m\u001b[37m\u001b[0m \u001b[1m12s\u001b[0m 54ms/step - accuracy: 0.8450 - loss: 0.6029 - val_accuracy: 0.0533 - val_loss: 12.3141\n",
      "Epoch 20/20\n",
      "\u001b[1m228/228\u001b[0m \u001b[32m━━━━━━━━━━━━━━━━━━━━\u001b[0m\u001b[37m\u001b[0m \u001b[1m12s\u001b[0m 54ms/step - accuracy: 0.8676 - loss: 0.5337 - val_accuracy: 0.0655 - val_loss: 12.5648\n"
     ]
    }
   ],
   "source": [
    "#LSTM model\n",
    "model = Sequential()\n",
    "model.add(Embedding(total_words,100))\n",
    "model.add(Bidirectional(LSTM(150)))\n",
    "model.add(Dense(total_words, activation='softmax'))\n",
    "optimizer = Adam(learning_rate=0.01)\n",
    "model.compile(loss='categorical_crossentropy', optimizer=optimizer, metrics=['accuracy'])\n",
    "\n",
    "history = model.fit(X_train, y_train, epochs=20, validation_data=(X_val,y_val), verbose=1)"
   ]
  },
  {
   "cell_type": "code",
   "execution_count": 14,
   "metadata": {},
   "outputs": [],
   "source": [
    "#save the model\n",
    "model = model.to_json()\n",
    "with open(\"sentComLstm.json\", 'w') as file:\n",
    "  file.write(model)"
   ]
  },
  {
   "cell_type": "code",
   "execution_count": 15,
   "metadata": {},
   "outputs": [],
   "source": [
    "with open(\"sentComLstm.json\", 'r') as model_file:\n",
    "  model_json = model_file.read()\n",
    "  model = model_from_json(model_json)"
   ]
  },
  {
   "cell_type": "code",
   "execution_count": 16,
   "metadata": {},
   "outputs": [
    {
     "data": {
      "image/png": "[encoded data removed]",
      "text/plain": [
       "<Figure size 640x480 with 1 Axes>"
      ]
     },
     "metadata": {},
     "output_type": "display_data"
    },
    {
     "data": {
      "image/png": "[encoded data removed]",
      "text/plain": [
       "<Figure size 640x480 with 1 Axes>"
      ]
     },
     "metadata": {},
     "output_type": "display_data"
    }
   ],
   "source": [
    "\n",
    "plt.plot(history.history['loss'], label='Train_loss')\n",
    "plt.plot(history.history['val_loss'], label='Validation_loss')\n",
    "plt.title('Train v/s Validation Loss')\n",
    "plt.ylabel(\"Loss\")\n",
    "plt.xlabel(\"Epochs\")\n",
    "plt.show()\n",
    "\n",
    "plt.plot(history.history['accuracy'], label='Train_accuracy')\n",
    "plt.plot(history.history['val_accuracy'], label='Validation_accuracy')\n",
    "plt.title('Train v/s Validation Loss')\n",
    "plt.ylabel(\"Accuracy\")\n",
    "plt.xlabel(\"Epochs\")\n",
    "plt.show()"
   ]
  },
  {
   "cell_type": "code",
   "execution_count": 61,
   "metadata": {},
   "outputs": [],
   "source": [
    "def predict_next(model, query_text):\n",
    "  query_text = np.reshape(query_text,(1,-1) )\n",
    "  print(query_text.reshape)\n",
    "  predict = model.predict(query_text, verbose =1)\n",
    "  # print(\"prediction: \",predict)\n",
    "  # print(\"predict[0]: \",predict[0])\n",
    "  top_five_index = np.argsort(predict[0])[::-1][:5]\n",
    "  print(top_five_index)\n",
    "  top_words = []\n",
    "  for i in top_five_index:\n",
    "    for word, idx in tokenizer.word_index.items():\n",
    "      if idx == i:\n",
    "        top_words.append(word)\n",
    "        break\n",
    "  return top_words"
   ]
  },
  {
   "cell_type": "code",
   "execution_count": 57,
   "metadata": {},
   "outputs": [],
   "source": [
    "def display_result(query_text):\n",
    "  words = predict_next(model, query_text)\n",
    "  results = []\n",
    "  query = []\n",
    "  for i in query_text:\n",
    "    for word, idx in tokenizer.word_index.items():\n",
    "      if idx == i and idx!=0:\n",
    "        query.append(word)\n",
    "\n",
    "  for word in words:\n",
    "    results.append(f'{\" \".join(query)}:  {word}')\n",
    "  return results"
   ]
  },
  {
   "cell_type": "code",
   "execution_count": 55,
   "metadata": {},
   "outputs": [],
   "source": [
    "def test(X, y):\n",
    "  y_word = []\n",
    "  for i in y:\n",
    "      for word, idx in tokenizer.word_index.items():\n",
    "        if idx == i and idx!=0:\n",
    "          y_word.append(word)\n",
    "\n",
    "  print(y_word)\n",
    "  print('Expected result:',\" \".join( y_word), \"Observed result: \", display_result(X))\n",
    "  "
   ]
  },
  {
   "cell_type": "code",
   "execution_count": 58,
   "metadata": {},
   "outputs": [
    {
     "name": "stdout",
     "output_type": "stream",
     "text": [
      "['<oov>']\n",
      "<built-in method reshape of numpy.ndarray object at 0x00000280EF69BBD0>\n",
      "\u001b[1m1/1\u001b[0m \u001b[32m━━━━━━━━━━━━━━━━━━━━\u001b[0m\u001b[37m\u001b[0m \u001b[1m0s\u001b[0m 25ms/step\n",
      "prediction:  [[0.0001146  0.00011441 0.00011485 ... 0.0001146  0.00011431 0.00011473]]\n",
      "predict[0]:  [0.0001146  0.00011441 0.00011485 ... 0.0001146  0.00011431 0.00011473]\n",
      "Expected result: <oov> Observed result:  ['closed the locket and handed it back to lord st:  gate', 'closed the locket and handed it back to lord st:  stoneflagged', 'closed the locket and handed it back to lord st:  indicated', 'closed the locket and handed it back to lord st:  depositors', 'closed the locket and handed it back to lord st:  sweet']\n"
     ]
    }
   ],
   "source": []
  },
  {
   "cell_type": "code",
   "execution_count": 60,
   "metadata": {},
   "outputs": [
    {
     "name": "stdout",
     "output_type": "stream",
     "text": [
      "['<oov>']\n",
      "<built-in method reshape of numpy.ndarray object at 0x00000280EF6CD950>\n",
      "\u001b[1m1/1\u001b[0m \u001b[32m━━━━━━━━━━━━━━━━━━━━\u001b[0m\u001b[37m\u001b[0m \u001b[1m0s\u001b[0m 25ms/step\n",
      "prediction:  [[0.0001147  0.00011426 0.00011474 ... 0.00011451 0.00011427 0.00011436]]\n",
      "predict[0]:  [0.0001147  0.00011426 0.00011474 ... 0.00011451 0.00011427 0.00011436]\n",
      "Expected result: <oov> Observed result:  ['well you have to be in the office or at least in:  mousseline', 'well you have to be in the office or at least in:  preserved', 'well you have to be in the office or at least in:  vainly', 'well you have to be in the office or at least in:  coldness', 'well you have to be in the office or at least in:  clotilde']\n"
     ]
    }
   ],
   "source": [
    "test(X_test[200],y_test[200])"
   ]
  },
  {
   "cell_type": "code",
   "execution_count": null,
   "metadata": {},
   "outputs": [],
   "source": []
  },
  {
   "cell_type": "code",
   "execution_count": null,
   "metadata": {},
   "outputs": [],
   "source": []
  },
  {
   "cell_type": "code",
   "execution_count": null,
   "metadata": {},
   "outputs": [],
   "source": []
  },
  {
   "cell_type": "code",
   "execution_count": null,
   "metadata": {},
   "outputs": [],
   "source": []
  },
  {
   "cell_type": "code",
   "execution_count": null,
   "metadata": {},
   "outputs": [],
   "source": []
  }
 ],
 "metadata": {
  "kernelspec": {
   "display_name": "nlp-comp",
   "language": "python",
   "name": "python3"
  },
  "language_info": {
   "codemirror_mode": {
    "name": "ipython",
    "version": 3
   },
   "file_extension": ".py",
   "mimetype": "text/x-python",
   "name": "python",
   "nbconvert_exporter": "python",
   "pygments_lexer": "ipython3",
   "version": "3.11.2"
  }
 },
 "nbformat": 4,
 "nbformat_minor": 2
}
